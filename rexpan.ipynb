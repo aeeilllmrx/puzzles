{
 "metadata": {
  "name": "",
  "signature": "sha256:f26b8c3083fb19e7f49249043ef6683cc468b1930b311a76e2b61a0b2faa871e"
 },
 "nbformat": 3,
 "nbformat_minor": 0,
 "worksheets": [
  {
   "cells": [
    {
     "cell_type": "markdown",
     "metadata": {},
     "source": [
      "## The Rex Parker Pan\n",
      "\n",
      "All right, this project may seem a little bizarre for the uninitiated, but I think regardless of background you'll find this entertaining.\n",
      "\n",
      "What you have to know is, there's a guy who has a website where he blogs his experience doing the New York Times crossword puzzle every day. And many people have come to see this website as THE place to go, whether you need the current day's answers, or compare your solving experience to this guy's, or want to discuss the puzzle in the comments section with other like-minded souls.\n",
      "\n",
      "A little nerdy, perhaps, but not too crazy. But here's the twist: after years of keeping up this blog, this guy (who writes under the pseudonym Rex Parker) has come to pretty much hate these puzzles. So day after day, he will just throw down these preposterous, nitpicky, vendetta-inspired screeds lambasting Will Shortz (the editor of the New York Times puzzle), the constructor, and various clues and answers.\n",
      "\n",
      "So I thought it would be fun to collect the text of Rex's past reviews and create some reviews that are representative of his output."
     ]
    },
    {
     "cell_type": "code",
     "collapsed": false,
     "input": [
      "from urllib2 import urlopen\n",
      "from pandas import date_range\n",
      "from bs4 import BeautifulSoup as bs\n",
      "from textblob import TextBlob\n",
      "from random import shuffle, randint\n",
      "from re import split"
     ],
     "language": "python",
     "metadata": {},
     "outputs": []
    },
    {
     "cell_type": "markdown",
     "metadata": {},
     "source": [
      "The first thing to do is get a list of urls that contain the reviews. I've only drawn on a month's worth, but feel free to experiment."
     ]
    },
    {
     "cell_type": "code",
     "collapsed": false,
     "input": [
      "dates = [d.strftime('%Y-%m-%d') for d in date_range('20140101','20140131')]\n",
      "urls = [\"http://rexwordpuzzle.blogspot.com/search?updated-max=\" \\\n",
      "                + d + \"T15:00:00-05:00&max-results=1\" for d in dates]\n",
      "reviews = []"
     ],
     "language": "python",
     "metadata": {},
     "outputs": []
    },
    {
     "cell_type": "markdown",
     "metadata": {},
     "source": [
      "Here's where the bulk of the work comes in. Using BeautifulSoup to parse the HTML, we find the date, constructor (that's crossword-lingo for author), difficulty, theme, \"word of the day\", and body. The difficulty is a rating Rex gives that ranges from \"easy\" to \"challenging\"  (though often it will be something like \"freakishly challenging, for a Tuesday!!\"), and the theme describes what's happening with the major entries of the puzzle. \n",
      "\n",
      "Finding all these involved combing the HTML to see what kinds of headers and divs surrounded them, but with BeautifulSoup it all comes out looking quite nice.\n",
      "\n",
      "The only tricky part is that the body, which contains the entire text of the review, often contains embedded links to YouTube videos and different unicode characters, and so I had to mostly cut those out."
     ]
    },
    {
     "cell_type": "code",
     "collapsed": false,
     "input": [
      "for url in urls:\n",
      "\n",
      "    review = {'date': \"\", 'constructor': \"\", 'difficulty': \"\", \\\n",
      "              'theme': \"\", 'wotd': \"\", 'body': \"\"}\n",
      "\n",
      "    sock = urlopen(url)\n",
      "    lines = sock.read()\n",
      "    sock.close()\n",
      "\n",
      "    soup = bs(str(lines))\n",
      "    soup.prettify()\n",
      "\n",
      "    # date\n",
      "    html = soup.find(\"h2\", {\"class\" : \"date-header\"})\n",
      "    date = bs(str(html)).get_text()\n",
      "    review['date'] = date\n",
      "    \n",
      "    # constructor / # difficulty\n",
      "    both = soup.p.get_text()\n",
      "    divided = both.split('\\n')\n",
      "    review['constructor'] = divided[0]\n",
      "    review['difficulty'] = divided[2]\n",
      "    \n",
      "    # theme\n",
      "    html = soup.find_all(\"div\", class_=\"post-body\")\n",
      "    text = bs(str(html)).get_text().split('\\n')\n",
      "    clean = [word for word in text if (word != '')]\n",
      "    review['theme'] = clean[4]\n",
      "    \n",
      "    # word of the day\n",
      "    for i in xrange(30):\n",
      "        split_by_colon = clean[i].split(':')\n",
      "        if 'Word of the Day' in split_by_colon:\n",
      "            review['wotd'] = clean[i]\n",
      "            break\n",
      "\n",
      "    # body\n",
      "    flag = False\n",
      "    body_words = []\n",
      "    for word in clean:\n",
      "        if unichr(8226) in word:\n",
      "            flag = True\n",
      "        if (flag == True):\n",
      "            word.encode('ascii','ignore')\n",
      "            body_words.append(word)\n",
      "    body = ''.join(body_words[1:-4]) \n",
      "    review['body'] = body\n",
      "\n",
      "    reviews.append(review)"
     ],
     "language": "python",
     "metadata": {},
     "outputs": []
    },
    {
     "cell_type": "markdown",
     "metadata": {},
     "source": [
      "Just so you're still with me, we're trying to capture the important parts from a page like this:\n",
      "\n",
      "<img src=\"rexsnip2.jpg\">"
     ]
    },
    {
     "cell_type": "markdown",
     "metadata": {},
     "source": [
      "Once we join those the content of all the reviews, we can start to play around with sentiment analysis. To make this a juicy review, let's take only sentences that are fairly negative and mix them up. TextBlob figures out the polarity by measuring the frequency of certain words that are associated heavily with positivity and negativity. So for example, \"terrible\" and \"not\" would tilt the scales negative, while \"astounding\" and \"confident\" would lean positive."
     ]
    },
    {
     "cell_type": "code",
     "collapsed": false,
     "input": [
      "content = ''.join(r['body'] for r in reviews)\n",
      "sents = split(\"[.!?]+\", content)\n",
      "neg_sents = [s for s in sents if (TextBlob(s).sentiment.polarity < -0.2)]\n",
      "shuffle(neg_sents)"
     ],
     "language": "python",
     "metadata": {},
     "outputs": []
    },
    {
     "cell_type": "markdown",
     "metadata": {},
     "source": [
      "All that's left is to print out the review. I'm obviously distorting the picture for the sake of a good read, but in my personal opinion these reviews should really come right out of the gate with a downer. So if after enough shuffling we can't find the right lead, I've provided a classic Rex Parker line to use."
     ]
    },
    {
     "cell_type": "code",
     "collapsed": false,
     "input": [
      "howmany = len(reviews) - 1\n",
      "while True:\n",
      "    n = 0\n",
      "    somereview = reviews[randint(0,howmany)]['body']\n",
      "    first = split(\"[.!?]+\", somereview)[0]\n",
      "    if TextBlob(first).sentiment.polarity < 0.05:\n",
      "        break\n",
      "    n += 1\n",
      "    if n == 10:\n",
      "        first = \"Not going to spend much time on this one, \\\n",
      "            largely because I found it so unpleasant\"\n",
      "        break"
     ],
     "language": "python",
     "metadata": {},
     "outputs": []
    },
    {
     "cell_type": "markdown",
     "metadata": {},
     "source": [
      "And finally, we put all the pieces together (including the usual sign-off phrase) and print out the review!"
     ]
    },
    {
     "cell_type": "code",
     "collapsed": false,
     "input": [
      "date = reviews[randint(0,howmany)]['date']\n",
      "constructor = reviews[randint(0,howmany)]['constructor']\n",
      "difficulty = reviews[randint(0,howmany)]['difficulty']\n",
      "theme = reviews[randint(0,howmany)]['theme']\n",
      "wotd = reviews[randint(0,howmany)]['wotd']\n",
      "last = \"Signed, Rex Parker, King of CrossWorld\"\n",
      "\n",
      "pan = [(neg_sents[i] + '.') for i in xrange(10)]\n",
      "body = ''.join(pan)\n",
      "\n",
      "print date, '\\n', constructor, '\\n', difficulty, '\\n', theme, \\\n",
      "        '\\n', wotd, '\\n', first, body, last"
     ],
     "language": "python",
     "metadata": {},
     "outputs": []
    },
    {
     "cell_type": "markdown",
     "metadata": {},
     "source": [
      "Voila:\n",
      "\n",
      "Thursday, January 2, 2014\n",
      "Constructor: Bernice Gordon\n",
      "Relative difficulty: Challenging (like, off the charts for a Tuesday)\n",
      "THEME: -ENDING \u2014 five answers are literal representations of phrases in which the first word follows the pattern _ENDING; first letter of each phrase is turned into the \u201cending\u201d of the answers, so that, for example, VENDING MACHINE becomes MACHINEV, i.e. V ENDING MACHINE. The first letter literally \u201cends\u201d the answer.\n",
      "Word of the Day: Frank ZAPPA (1D: Rock and Roll Hall of Fame inductee with only one Top 40 hit)\n",
      "\n",
      "Not going to spend much time on this one, largely because I found it so unpleasant. There is no good clue for LEILA that does not involve centuries old poetry (in this case) or opera (in the other common clue for LEILA: [\u201cThe Pearl Fishers\u201d soprano]). But still, clues like that give crosswords a bad, musty name. Always painful when a puzzle cross-references two answers in the same quadrant. This was my bad, but did nothing to endure stupid TABORET to me. Again, unnecessary suboptimal fill seems to be an unsolvable problem for NY Times puzzles; you just don\u2019t see this level of dreck in other top-level crosswords. Completely randomly placed. Let\u2019s list the, say, five worst pieces and see the damage: ANANAS [Pineapples: Sp. This is not to be confused with difficulty, of which this puzzle has very little. A tough Saturday. How can you go wrong. Signed, Rex Parker, King of CrossWorld"
     ]
    }
   ],
   "metadata": {}
  }
 ]
}